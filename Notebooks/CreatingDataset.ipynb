{
 "cells": [
  {
   "cell_type": "code",
   "execution_count": 1,
   "id": "0821765c-cb39-4876-9119-231ae561acff",
   "metadata": {},
   "outputs": [],
   "source": [
    "# Import required libraries\n",
    "import pandas as pd\n",
    "from datasets import Dataset, DatasetDict"
   ]
  },
  {
   "cell_type": "code",
   "execution_count": 2,
   "id": "ef828bba-8de8-44e9-94db-c8227730bfe5",
   "metadata": {},
   "outputs": [
    {
     "data": {
      "text/html": [
       "<div>\n",
       "<style scoped>\n",
       "    .dataframe tbody tr th:only-of-type {\n",
       "        vertical-align: middle;\n",
       "    }\n",
       "\n",
       "    .dataframe tbody tr th {\n",
       "        vertical-align: top;\n",
       "    }\n",
       "\n",
       "    .dataframe thead th {\n",
       "        text-align: right;\n",
       "    }\n",
       "</style>\n",
       "<table border=\"1\" class=\"dataframe\">\n",
       "  <thead>\n",
       "    <tr style=\"text-align: right;\">\n",
       "      <th></th>\n",
       "      <th>Question</th>\n",
       "      <th>Answer</th>\n",
       "    </tr>\n",
       "  </thead>\n",
       "  <tbody>\n",
       "    <tr>\n",
       "      <th>0</th>\n",
       "      <td>Whats is DTT?</td>\n",
       "      <td>DTT us the acronym for \"Development of Techno...</td>\n",
       "    </tr>\n",
       "    <tr>\n",
       "      <th>1</th>\n",
       "      <td>What is DTT used for?</td>\n",
       "      <td>The DTT project serves as the link between und...</td>\n",
       "    </tr>\n",
       "    <tr>\n",
       "      <th>2</th>\n",
       "      <td>What is University of San Carlos de Guatemala?</td>\n",
       "      <td>The University of San Carlos de Guatemala (USA...</td>\n",
       "    </tr>\n",
       "    <tr>\n",
       "      <th>3</th>\n",
       "      <td>What is School of Sciences and Systems at Univ...</td>\n",
       "      <td>The student of the Faculty of Engineering at t...</td>\n",
       "    </tr>\n",
       "    <tr>\n",
       "      <th>4</th>\n",
       "      <td>What is USAC?</td>\n",
       "      <td>USAC is the acronym for University of San Car...</td>\n",
       "    </tr>\n",
       "    <tr>\n",
       "      <th>...</th>\n",
       "      <td>...</td>\n",
       "      <td>...</td>\n",
       "    </tr>\n",
       "    <tr>\n",
       "      <th>497</th>\n",
       "      <td>How can I send notices through the system?</td>\n",
       "      <td>You can find this information in the document ...</td>\n",
       "    </tr>\n",
       "    <tr>\n",
       "      <th>498</th>\n",
       "      <td>How can I view student lists in the system?</td>\n",
       "      <td>You can find this information in the document ...</td>\n",
       "    </tr>\n",
       "    <tr>\n",
       "      <th>499</th>\n",
       "      <td>How can I bulk load students into the system?</td>\n",
       "      <td>You can find this information in the document ...</td>\n",
       "    </tr>\n",
       "    <tr>\n",
       "      <th>500</th>\n",
       "      <td>How can I edit and search student information ...</td>\n",
       "      <td>You can find this information in the document ...</td>\n",
       "    </tr>\n",
       "    <tr>\n",
       "      <th>501</th>\n",
       "      <td>Where can I find the document Manual for assig...</td>\n",
       "      <td>You can find it at: \"https://drive.google.com/...</td>\n",
       "    </tr>\n",
       "  </tbody>\n",
       "</table>\n",
       "<p>502 rows × 2 columns</p>\n",
       "</div>"
      ],
      "text/plain": [
       "                                              Question  \\\n",
       "0                                        Whats is DTT?   \n",
       "1                                What is DTT used for?   \n",
       "2       What is University of San Carlos de Guatemala?   \n",
       "3    What is School of Sciences and Systems at Univ...   \n",
       "4                                        What is USAC?   \n",
       "..                                                 ...   \n",
       "497         How can I send notices through the system?   \n",
       "498        How can I view student lists in the system?   \n",
       "499      How can I bulk load students into the system?   \n",
       "500  How can I edit and search student information ...   \n",
       "501  Where can I find the document Manual for assig...   \n",
       "\n",
       "                                                Answer  \n",
       "0     DTT us the acronym for \"Development of Techno...  \n",
       "1    The DTT project serves as the link between und...  \n",
       "2    The University of San Carlos de Guatemala (USA...  \n",
       "3    The student of the Faculty of Engineering at t...  \n",
       "4     USAC is the acronym for University of San Car...  \n",
       "..                                                 ...  \n",
       "497  You can find this information in the document ...  \n",
       "498  You can find this information in the document ...  \n",
       "499  You can find this information in the document ...  \n",
       "500  You can find this information in the document ...  \n",
       "501  You can find it at: \"https://drive.google.com/...  \n",
       "\n",
       "[502 rows x 2 columns]"
      ]
     },
     "execution_count": 2,
     "metadata": {},
     "output_type": "execute_result"
    }
   ],
   "source": [
    "# Load the data from CSV separated by \"|\"\n",
    "data = pd.read_csv(\"Final.csv\", sep='|')\n",
    "data"
   ]
  },
  {
   "cell_type": "code",
   "execution_count": 3,
   "id": "d0d49b0b-cd4b-4d3f-aa52-561080bf6c92",
   "metadata": {},
   "outputs": [
    {
     "name": "stdout",
     "output_type": "stream",
     "text": [
      "DatasetDict({\n",
      "    train: Dataset({\n",
      "        features: ['Question', 'Answer'],\n",
      "        num_rows: 502\n",
      "    })\n",
      "})\n"
     ]
    }
   ],
   "source": [
    "dataset = Dataset.from_pandas(data) # Create a Dataset object from the dataframe data\n",
    "dataset_dict = DatasetDict({\"train\": dataset}) # Create a DatasetDic object, Basically a dictionary containing objects.\n",
    "print(dataset_dict)"
   ]
  },
  {
   "cell_type": "code",
   "execution_count": 4,
   "id": "77e9fabd-ef84-4632-9d2a-c0566ae08e45",
   "metadata": {},
   "outputs": [
    {
     "data": {
      "application/vnd.jupyter.widget-view+json": {
       "model_id": "b47a264eb91049d3b44d708905382a88",
       "version_major": 2,
       "version_minor": 0
      },
      "text/plain": [
       "Uploading the dataset shards:   0%|          | 0/1 [00:00<?, ?it/s]"
      ]
     },
     "metadata": {},
     "output_type": "display_data"
    },
    {
     "data": {
      "application/vnd.jupyter.widget-view+json": {
       "model_id": "a817dcce6a0d4c5991ce61c6f4bfb475",
       "version_major": 2,
       "version_minor": 0
      },
      "text/plain": [
       "Creating parquet from Arrow format:   0%|          | 0/1 [00:00<?, ?ba/s]"
      ]
     },
     "metadata": {},
     "output_type": "display_data"
    },
    {
     "data": {
      "application/vnd.jupyter.widget-view+json": {
       "model_id": "5600cd98838941bca08cd6b33dcdc6a1",
       "version_major": 2,
       "version_minor": 0
      },
      "text/plain": [
       "README.md:   0%|          | 0.00/4.78k [00:00<?, ?B/s]"
      ]
     },
     "metadata": {},
     "output_type": "display_data"
    },
    {
     "data": {
      "text/plain": [
       "CommitInfo(commit_url='https://huggingface.co/datasets/SerchiBoi/DTT-Info/commit/c0d99033776344521966f4624b77f96c81aa52c1', commit_message='Upload dataset', commit_description='', oid='c0d99033776344521966f4624b77f96c81aa52c1', pr_url=None, pr_revision=None, pr_num=None)"
      ]
     },
     "execution_count": 4,
     "metadata": {},
     "output_type": "execute_result"
    }
   ],
   "source": [
    "#Upload the DatasetDic object to the specific dataset repository in Hugging Face Hub\n",
    "dataset_dict.push_to_hub(\"SerchiBoi/DTT-Info\")"
   ]
  },
  {
   "cell_type": "code",
   "execution_count": null,
   "id": "6b184b9e-6518-4428-9334-7d3e035f6f61",
   "metadata": {},
   "outputs": [],
   "source": []
  }
 ],
 "metadata": {
  "kernelspec": {
   "display_name": "Python 3 (ipykernel)",
   "language": "python",
   "name": "python3"
  },
  "language_info": {
   "codemirror_mode": {
    "name": "ipython",
    "version": 3
   },
   "file_extension": ".py",
   "mimetype": "text/x-python",
   "name": "python",
   "nbconvert_exporter": "python",
   "pygments_lexer": "ipython3",
   "version": "3.10.12"
  }
 },
 "nbformat": 4,
 "nbformat_minor": 5
}
