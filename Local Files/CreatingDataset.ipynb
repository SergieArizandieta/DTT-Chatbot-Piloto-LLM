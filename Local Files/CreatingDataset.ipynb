{
 "cells": [
  {
   "cell_type": "code",
   "execution_count": 12,
   "id": "0821765c-cb39-4876-9119-231ae561acff",
   "metadata": {},
   "outputs": [],
   "source": [
    "# Import required libraries\n",
    "import pandas as pd\n",
    "from datasets import Dataset, DatasetDict"
   ]
  },
  {
   "cell_type": "code",
   "execution_count": 13,
   "id": "ef828bba-8de8-44e9-94db-c8227730bfe5",
   "metadata": {},
   "outputs": [
    {
     "data": {
      "text/html": [
       "<div>\n",
       "<style scoped>\n",
       "    .dataframe tbody tr th:only-of-type {\n",
       "        vertical-align: middle;\n",
       "    }\n",
       "\n",
       "    .dataframe tbody tr th {\n",
       "        vertical-align: top;\n",
       "    }\n",
       "\n",
       "    .dataframe thead th {\n",
       "        text-align: right;\n",
       "    }\n",
       "</style>\n",
       "<table border=\"1\" class=\"dataframe\">\n",
       "  <thead>\n",
       "    <tr style=\"text-align: right;\">\n",
       "      <th></th>\n",
       "      <th>Question</th>\n",
       "      <th>Answer</th>\n",
       "    </tr>\n",
       "  </thead>\n",
       "  <tbody>\n",
       "    <tr>\n",
       "      <th>0</th>\n",
       "      <td>What are the skills that a graduate of the Bac...</td>\n",
       "      <td>According to the document Graduation Profile o...</td>\n",
       "    </tr>\n",
       "    <tr>\n",
       "      <th>1</th>\n",
       "      <td>What leadership skills are expected from a Sci...</td>\n",
       "      <td>According to the document Graduation Profile o...</td>\n",
       "    </tr>\n",
       "    <tr>\n",
       "      <th>2</th>\n",
       "      <td>What technical skills are required in a Scienc...</td>\n",
       "      <td>According to the document Graduation Profile o...</td>\n",
       "    </tr>\n",
       "    <tr>\n",
       "      <th>3</th>\n",
       "      <td>What is a Science and Systems Engineering grad...</td>\n",
       "      <td>According to the document Graduation Profile o...</td>\n",
       "    </tr>\n",
       "    <tr>\n",
       "      <th>4</th>\n",
       "      <td>What communication skills are expected of a Sc...</td>\n",
       "      <td>According to the document Graduation Profile o...</td>\n",
       "    </tr>\n",
       "    <tr>\n",
       "      <th>...</th>\n",
       "      <td>...</td>\n",
       "      <td>...</td>\n",
       "    </tr>\n",
       "    <tr>\n",
       "      <th>491</th>\n",
       "      <td>How can I send notices through the system?</td>\n",
       "      <td>You can find this information in the document ...</td>\n",
       "    </tr>\n",
       "    <tr>\n",
       "      <th>492</th>\n",
       "      <td>How can I view student lists in the system?</td>\n",
       "      <td>You can find this information in the document ...</td>\n",
       "    </tr>\n",
       "    <tr>\n",
       "      <th>493</th>\n",
       "      <td>How can I bulk load students into the system?</td>\n",
       "      <td>You can find this information in the document ...</td>\n",
       "    </tr>\n",
       "    <tr>\n",
       "      <th>494</th>\n",
       "      <td>How can I edit and search student information ...</td>\n",
       "      <td>You can find this information in the document ...</td>\n",
       "    </tr>\n",
       "    <tr>\n",
       "      <th>495</th>\n",
       "      <td>Where can I find the document Manual for assig...</td>\n",
       "      <td>You can find it at: \"https://drive.google.com/...</td>\n",
       "    </tr>\n",
       "  </tbody>\n",
       "</table>\n",
       "<p>496 rows × 2 columns</p>\n",
       "</div>"
      ],
      "text/plain": [
       "                                              Question  \\\n",
       "0    What are the skills that a graduate of the Bac...   \n",
       "1    What leadership skills are expected from a Sci...   \n",
       "2    What technical skills are required in a Scienc...   \n",
       "3    What is a Science and Systems Engineering grad...   \n",
       "4    What communication skills are expected of a Sc...   \n",
       "..                                                 ...   \n",
       "491         How can I send notices through the system?   \n",
       "492        How can I view student lists in the system?   \n",
       "493      How can I bulk load students into the system?   \n",
       "494  How can I edit and search student information ...   \n",
       "495  Where can I find the document Manual for assig...   \n",
       "\n",
       "                                                Answer  \n",
       "0    According to the document Graduation Profile o...  \n",
       "1    According to the document Graduation Profile o...  \n",
       "2    According to the document Graduation Profile o...  \n",
       "3    According to the document Graduation Profile o...  \n",
       "4    According to the document Graduation Profile o...  \n",
       "..                                                 ...  \n",
       "491  You can find this information in the document ...  \n",
       "492  You can find this information in the document ...  \n",
       "493  You can find this information in the document ...  \n",
       "494  You can find this information in the document ...  \n",
       "495  You can find it at: \"https://drive.google.com/...  \n",
       "\n",
       "[496 rows x 2 columns]"
      ]
     },
     "execution_count": 13,
     "metadata": {},
     "output_type": "execute_result"
    }
   ],
   "source": [
    "# Load the data from CSV separated by \"|\"\n",
    "data = pd.read_csv(\"Final.csv\", sep='|')\n",
    "data"
   ]
  },
  {
   "cell_type": "code",
   "execution_count": 11,
   "id": "d0d49b0b-cd4b-4d3f-aa52-561080bf6c92",
   "metadata": {},
   "outputs": [
    {
     "name": "stdout",
     "output_type": "stream",
     "text": [
      "DatasetDict({\n",
      "    train: Dataset({\n",
      "        features: ['Question', 'Answer'],\n",
      "        num_rows: 496\n",
      "    })\n",
      "})\n"
     ]
    }
   ],
   "source": [
    "dataset = Dataset.from_pandas(data) # Create a Dataset object from the dataframe data\n",
    "dataset_dict = DatasetDict({\"train\": dataset}) # Create a DatasetDic object, Basically a dictionary containing objects.\n",
    "print(dataset_dict)"
   ]
  },
  {
   "cell_type": "code",
   "execution_count": 6,
   "id": "77e9fabd-ef84-4632-9d2a-c0566ae08e45",
   "metadata": {},
   "outputs": [
    {
     "data": {
      "application/vnd.jupyter.widget-view+json": {
       "model_id": "e85fc27a47e3452bbefc606378585f4f",
       "version_major": 2,
       "version_minor": 0
      },
      "text/plain": [
       "Uploading the dataset shards:   0%|          | 0/1 [00:00<?, ?it/s]"
      ]
     },
     "metadata": {},
     "output_type": "display_data"
    },
    {
     "data": {
      "application/vnd.jupyter.widget-view+json": {
       "model_id": "6a7ad2fd0303412f9d6d746a3ce1f563",
       "version_major": 2,
       "version_minor": 0
      },
      "text/plain": [
       "Creating parquet from Arrow format:   0%|          | 0/1 [00:00<?, ?ba/s]"
      ]
     },
     "metadata": {},
     "output_type": "display_data"
    },
    {
     "data": {
      "application/vnd.jupyter.widget-view+json": {
       "model_id": "8f8209b2d8674988995fdde01797d473",
       "version_major": 2,
       "version_minor": 0
      },
      "text/plain": [
       "README.md:   0%|          | 0.00/4.48k [00:00<?, ?B/s]"
      ]
     },
     "metadata": {},
     "output_type": "display_data"
    },
    {
     "data": {
      "text/plain": [
       "CommitInfo(commit_url='https://huggingface.co/datasets/SerchiBoi/DTT-Info/commit/02fc753fc8e9c5ac0f782de55155d08e4d7f7dbd', commit_message='Upload dataset', commit_description='', oid='02fc753fc8e9c5ac0f782de55155d08e4d7f7dbd', pr_url=None, pr_revision=None, pr_num=None)"
      ]
     },
     "execution_count": 6,
     "metadata": {},
     "output_type": "execute_result"
    }
   ],
   "source": [
    "#Upload the DatasetDic object to the specific dataset repository in Hugging Face Hub\n",
    "dataset_dict.push_to_hub(\"SerchiBoi/DTT-Info\")"
   ]
  },
  {
   "cell_type": "code",
   "execution_count": null,
   "id": "6b184b9e-6518-4428-9334-7d3e035f6f61",
   "metadata": {},
   "outputs": [],
   "source": []
  }
 ],
 "metadata": {
  "kernelspec": {
   "display_name": "Python 3 (ipykernel)",
   "language": "python",
   "name": "python3"
  },
  "language_info": {
   "codemirror_mode": {
    "name": "ipython",
    "version": 3
   },
   "file_extension": ".py",
   "mimetype": "text/x-python",
   "name": "python",
   "nbconvert_exporter": "python",
   "pygments_lexer": "ipython3",
   "version": "3.10.12"
  }
 },
 "nbformat": 4,
 "nbformat_minor": 5
}
