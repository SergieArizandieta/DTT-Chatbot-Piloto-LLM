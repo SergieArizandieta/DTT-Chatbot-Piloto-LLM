{
 "cells": [
  {
   "cell_type": "code",
   "execution_count": null,
   "id": "faf13e3d-0ce8-46d5-805c-50a19cbdfce4",
   "metadata": {},
   "outputs": [],
   "source": [
    "!pip3 install -q bitsandbytes==0.42.0\n",
    "!pip3 install -q peft==0.8.2\n",
    "!pip3 install -q trl==0.7.10\n",
    "!pip3 install -q accelerate==0.27.1\n",
    "!pip3 install -q transformers==4.38.0\n",
    "!pip3 install -q tensorboard==2.16.2\n",
    "!pip3 install -q torch==2.3.0\n",
    "\n",
    "!pip3 install -q huggingface_hub==0.23.0\n",
    "!pip3 install -q datasets==2.17.0\n",
    "\n",
    "!pip3 install -q deep_translator==1.11.4\n",
    "!pip3 install -q gradio==4.31.0\n",
    "print(\"FINALIZO\")"
   ]
  },
  {
   "cell_type": "code",
   "execution_count": null,
   "id": "e9e502a5-ac90-4c52-b621-da8d577a249f",
   "metadata": {},
   "outputs": [],
   "source": [
    "from huggingface_hub import notebook_login\n",
    "notebook_login()"
   ]
  }
 ],
 "metadata": {
  "kernelspec": {
   "display_name": "Python 3 (ipykernel)",
   "language": "python",
   "name": "python3"
  },
  "language_info": {
   "codemirror_mode": {
    "name": "ipython",
    "version": 3
   },
   "file_extension": ".py",
   "mimetype": "text/x-python",
   "name": "python",
   "nbconvert_exporter": "python",
   "pygments_lexer": "ipython3",
   "version": "3.10.12"
  }
 },
 "nbformat": 4,
 "nbformat_minor": 5
}
